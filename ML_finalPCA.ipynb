{
  "nbformat": 4,
  "nbformat_minor": 0,
  "metadata": {
    "colab": {
      "name": "ML_finalPCA.ipynb",
      "provenance": [],
      "authorship_tag": "ABX9TyOf5hBBaRcrD4s0BVOG6Egi",
      "include_colab_link": true
    },
    "kernelspec": {
      "name": "python3",
      "display_name": "Python 3"
    },
    "language_info": {
      "name": "python"
    }
  },
  "cells": [
    {
      "cell_type": "markdown",
      "metadata": {
        "id": "view-in-github",
        "colab_type": "text"
      },
      "source": [
        "<a href=\"https://colab.research.google.com/github/Yap-Yoong-Siew/Machine-Learning/blob/main/ML_finalPCA.ipynb\" target=\"_parent\"><img src=\"https://colab.research.google.com/assets/colab-badge.svg\" alt=\"Open In Colab\"/></a>"
      ]
    },
    {
      "cell_type": "markdown",
      "source": [
        "\n",
        "\n",
        "\n",
        "## Written by Yap Yoong Siew s2122194\n",
        "```\n",
        "\n"
      ],
      "metadata": {
        "id": "dwaBTBWC5PZk"
      }
    },
    {
      "cell_type": "code",
      "execution_count": null,
      "metadata": {
        "id": "7OwIVbRk2WwP"
      },
      "outputs": [],
      "source": [
        "import pandas as pd\n",
        "import numpy as np"
      ]
    },
    {
      "cell_type": "code",
      "source": [
        "x_list = [0.5,1.0,1.5,1.1,1.9,2.2,2.6,2.0,2.5,3.1]\n",
        "y_list = [0.7,1.1,1.6,0.9,2.2,2.9,2.7,1.6,2.4,3.0]"
      ],
      "metadata": {
        "id": "QILPCKPV3NlP"
      },
      "execution_count": null,
      "outputs": []
    },
    {
      "cell_type": "code",
      "source": [
        "df = pd.DataFrame(list(zip(x_list, y_list)),columns =['X', 'Y'])"
      ],
      "metadata": {
        "id": "4cQtiASS3PPV"
      },
      "execution_count": null,
      "outputs": []
    },
    {
      "cell_type": "markdown",
      "source": [
        ""
      ],
      "metadata": {
        "id": "X4xVKxVi5Wly"
      }
    },
    {
      "cell_type": "code",
      "source": [
        "X = df.values\n",
        "print(X)"
      ],
      "metadata": {
        "colab": {
          "base_uri": "https://localhost:8080/"
        },
        "id": "vG3i1MsM3Q1q",
        "outputId": "6ba9599a-f9a1-45e5-df0d-adfc02c111c8"
      },
      "execution_count": null,
      "outputs": [
        {
          "output_type": "stream",
          "name": "stdout",
          "text": [
            "[[0.5 0.7]\n",
            " [1.  1.1]\n",
            " [1.5 1.6]\n",
            " [1.1 0.9]\n",
            " [1.9 2.2]\n",
            " [2.2 2.9]\n",
            " [2.6 2.7]\n",
            " [2.  1.6]\n",
            " [2.5 2.4]\n",
            " [3.1 3. ]]\n"
          ]
        }
      ]
    },
    {
      "cell_type": "code",
      "source": [
        "def featureNormalize(X):\n",
        "    mu = np.mean(X, axis=0)\n",
        "    X_norm = X - mu\n",
        "    sigma = np.std(X_norm, axis=0, ddof=1)\n",
        "    X_norm /= sigma\n",
        "\n",
        "    return X_norm, mu, sigma"
      ],
      "metadata": {
        "id": "-FXBdqiU3StF"
      },
      "execution_count": null,
      "outputs": []
    },
    {
      "cell_type": "code",
      "source": [
        "def pca(X):\n",
        "    m, n = X.shape\n",
        "    U = np.zeros(n)\n",
        "    S = np.zeros(n)\n",
        "    Sigma = (1 / m) * (X.T.dot(X))\n",
        "    U, S, V = np.linalg.svd(Sigma)\n",
        "    \n",
        "    return U, S"
      ],
      "metadata": {
        "id": "BeLHt1UW3VTG"
      },
      "execution_count": null,
      "outputs": []
    },
    {
      "cell_type": "code",
      "source": [
        "def projectData(X, U, K):\n",
        "    Z = np.zeros((X.shape[0], K))\n",
        "    Z = np.dot(X,  U[:, :K])\n",
        "    \n",
        "    return Z"
      ],
      "metadata": {
        "id": "qi0smpFL3g2t"
      },
      "execution_count": null,
      "outputs": []
    },
    {
      "cell_type": "code",
      "source": [
        "X_norm, mu, sigma = featureNormalize(X)\n",
        "U, S = pca(X_norm)"
      ],
      "metadata": {
        "id": "4Il71ROC3iWJ"
      },
      "execution_count": null,
      "outputs": []
    },
    {
      "cell_type": "code",
      "source": [
        "print(U) # answer to question feature vector with both eigenvector(a)"
      ],
      "metadata": {
        "colab": {
          "base_uri": "https://localhost:8080/"
        },
        "id": "Shy4VKsw36tu",
        "outputId": "ad9971d2-7c66-4a32-ea4d-9594b3487254"
      },
      "execution_count": null,
      "outputs": [
        {
          "output_type": "stream",
          "name": "stdout",
          "text": [
            "[[-0.70710678 -0.70710678]\n",
            " [-0.70710678  0.70710678]]\n"
          ]
        }
      ]
    },
    {
      "cell_type": "code",
      "source": [
        "K = 1 # target is 1D data\n",
        "Z = projectData(X_norm, U, K)\n",
        "\n",
        "print(Z) # answer to new data set (2D-1D) (b)"
      ],
      "metadata": {
        "colab": {
          "base_uri": "https://localhost:8080/"
        },
        "id": "LHVb8NiG3j9r",
        "outputId": "58ae89b1-b0db-4c96-830e-799e5897bfeb"
      },
      "execution_count": null,
      "outputs": [
        {
          "output_type": "stream",
          "name": "stdout",
          "text": [
            "[[ 2.17864821]\n",
            " [ 1.40873323]\n",
            " [ 0.55528487]\n",
            " [ 1.48864371]\n",
            " [-0.29454058]\n",
            " [-1.14074313]\n",
            " [-1.32230152]\n",
            " [ 0.11950342]\n",
            " [-0.98454508]\n",
            " [-2.00868312]]\n"
          ]
        }
      ]
    }
  ]
}